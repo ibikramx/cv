{
  "nbformat": 4,
  "nbformat_minor": 0,
  "metadata": {
    "colab": {
      "name": "img_processing_2.ipynb",
      "provenance": [],
      "authorship_tag": "ABX9TyOqTFkVWE+wjh267bLnwAsY"
    },
    "kernelspec": {
      "name": "python3",
      "display_name": "Python 3"
    }
  },
  "cells": [
    {
      "cell_type": "markdown",
      "metadata": {
        "id": "68ZT12AApR_0"
      },
      "source": [
        "##Create img using numpy array"
      ]
    },
    {
      "cell_type": "code",
      "metadata": {
        "id": "ybSSHdwZgAsE"
      },
      "source": [
        "import numpy as np\n",
        "from PIL import Image"
      ],
      "execution_count": null,
      "outputs": []
    },
    {
      "cell_type": "code",
      "metadata": {
        "colab": {
          "base_uri": "https://localhost:8080/"
        },
        "id": "HMAhLl0qgOU8",
        "outputId": "db016b0b-db3f-4df4-af94-fa5edbfb63d0"
      },
      "source": [
        "a=np.zeros([800,600,3],dtype=np.uint8)\n",
        "a"
      ],
      "execution_count": null,
      "outputs": [
        {
          "output_type": "execute_result",
          "data": {
            "text/plain": [
              "array([[[0, 0, 0],\n",
              "        [0, 0, 0],\n",
              "        [0, 0, 0],\n",
              "        ...,\n",
              "        [0, 0, 0],\n",
              "        [0, 0, 0],\n",
              "        [0, 0, 0]],\n",
              "\n",
              "       [[0, 0, 0],\n",
              "        [0, 0, 0],\n",
              "        [0, 0, 0],\n",
              "        ...,\n",
              "        [0, 0, 0],\n",
              "        [0, 0, 0],\n",
              "        [0, 0, 0]],\n",
              "\n",
              "       [[0, 0, 0],\n",
              "        [0, 0, 0],\n",
              "        [0, 0, 0],\n",
              "        ...,\n",
              "        [0, 0, 0],\n",
              "        [0, 0, 0],\n",
              "        [0, 0, 0]],\n",
              "\n",
              "       ...,\n",
              "\n",
              "       [[0, 0, 0],\n",
              "        [0, 0, 0],\n",
              "        [0, 0, 0],\n",
              "        ...,\n",
              "        [0, 0, 0],\n",
              "        [0, 0, 0],\n",
              "        [0, 0, 0]],\n",
              "\n",
              "       [[0, 0, 0],\n",
              "        [0, 0, 0],\n",
              "        [0, 0, 0],\n",
              "        ...,\n",
              "        [0, 0, 0],\n",
              "        [0, 0, 0],\n",
              "        [0, 0, 0]],\n",
              "\n",
              "       [[0, 0, 0],\n",
              "        [0, 0, 0],\n",
              "        [0, 0, 0],\n",
              "        ...,\n",
              "        [0, 0, 0],\n",
              "        [0, 0, 0],\n",
              "        [0, 0, 0]]], dtype=uint8)"
            ]
          },
          "metadata": {
            "tags": []
          },
          "execution_count": 2
        }
      ]
    },
    {
      "cell_type": "code",
      "metadata": {
        "colab": {
          "base_uri": "https://localhost:8080/"
        },
        "id": "GQZhF8smiJtR",
        "outputId": "89c60a64-e991-4b7c-f9c4-00526401bb65"
      },
      "source": [
        "a[:400]=[0,255,0]\n",
        "a"
      ],
      "execution_count": null,
      "outputs": [
        {
          "output_type": "execute_result",
          "data": {
            "text/plain": [
              "array([[[  0, 255,   0],\n",
              "        [  0, 255,   0],\n",
              "        [  0, 255,   0],\n",
              "        ...,\n",
              "        [  0, 255,   0],\n",
              "        [  0, 255,   0],\n",
              "        [  0, 255,   0]],\n",
              "\n",
              "       [[  0, 255,   0],\n",
              "        [  0, 255,   0],\n",
              "        [  0, 255,   0],\n",
              "        ...,\n",
              "        [  0, 255,   0],\n",
              "        [  0, 255,   0],\n",
              "        [  0, 255,   0]],\n",
              "\n",
              "       [[  0, 255,   0],\n",
              "        [  0, 255,   0],\n",
              "        [  0, 255,   0],\n",
              "        ...,\n",
              "        [  0, 255,   0],\n",
              "        [  0, 255,   0],\n",
              "        [  0, 255,   0]],\n",
              "\n",
              "       ...,\n",
              "\n",
              "       [[  0,   0,   0],\n",
              "        [  0,   0,   0],\n",
              "        [  0,   0,   0],\n",
              "        ...,\n",
              "        [  0,   0,   0],\n",
              "        [  0,   0,   0],\n",
              "        [  0,   0,   0]],\n",
              "\n",
              "       [[  0,   0,   0],\n",
              "        [  0,   0,   0],\n",
              "        [  0,   0,   0],\n",
              "        ...,\n",
              "        [  0,   0,   0],\n",
              "        [  0,   0,   0],\n",
              "        [  0,   0,   0]],\n",
              "\n",
              "       [[  0,   0,   0],\n",
              "        [  0,   0,   0],\n",
              "        [  0,   0,   0],\n",
              "        ...,\n",
              "        [  0,   0,   0],\n",
              "        [  0,   0,   0],\n",
              "        [  0,   0,   0]]], dtype=uint8)"
            ]
          },
          "metadata": {
            "tags": []
          },
          "execution_count": 4
        }
      ]
    },
    {
      "cell_type": "markdown",
      "metadata": {
        "id": "65Z83kSQplau"
      },
      "source": [
        "####PIL use to save image from numpy array"
      ]
    },
    {
      "cell_type": "code",
      "metadata": {
        "id": "iyuuDTifkWOG"
      },
      "source": [
        "img=Image.fromarray(a)\n",
        "img.save('img.jpg')"
      ],
      "execution_count": null,
      "outputs": []
    }
  ]
}