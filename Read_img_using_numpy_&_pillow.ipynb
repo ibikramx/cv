{
  "nbformat": 4,
  "nbformat_minor": 0,
  "metadata": {
    "colab": {
      "name": "Read img using numpy & pillow.ipynb",
      "provenance": [],
      "authorship_tag": "ABX9TyNS3uYD6qeH1SpSOz3eHEaL"
    },
    "kernelspec": {
      "display_name": "Python 3",
      "name": "python3"
    }
  },
  "cells": [
    {
      "cell_type": "code",
      "metadata": {
        "id": "jF18Ew_JASOO"
      },
      "source": [
        "import numpy as np\n",
        "from PIL import Image\n",
        "import matplotlib.pyplot as plt\n",
        "from skimage import io"
      ],
      "execution_count": 3,
      "outputs": []
    },
    {
      "cell_type": "code",
      "metadata": {
        "id": "GgUtAdHEAhQd"
      },
      "source": [
        "img=Image.open('ab.jpg')\n",
        "img_arr=np.array(img)"
      ],
      "execution_count": 4,
      "outputs": []
    },
    {
      "cell_type": "code",
      "metadata": {
        "id": "8vGxId1PBA0o"
      },
      "source": [
        "#print(img)\n",
        "#print(img_arr)"
      ],
      "execution_count": 5,
      "outputs": []
    },
    {
      "cell_type": "code",
      "metadata": {
        "id": "Z0_FnHLU62Z-"
      },
      "source": [
        "neo=np.where(img_arr>44, 20,200)\n",
        "plt.imshow(neo)"
      ],
      "execution_count": null,
      "outputs": []
    },
    {
      "cell_type": "code",
      "metadata": {
        "id": "MjAlTW_EFG2a"
      },
      "source": [
        "io.imsave('abb.png', neo)"
      ],
      "execution_count": null,
      "outputs": []
    },
    {
      "cell_type": "code",
      "metadata": {
        "id": "8qrqZVMlFmpm"
      },
      "source": [
        "neo.dtype"
      ],
      "execution_count": null,
      "outputs": []
    },
    {
      "cell_type": "code",
      "metadata": {
        "id": "6mhr9L6y9Tz3"
      },
      "source": [
        "a=np.array(neo,dtype=np.uint8)\n",
        "#p=np.array(neo, dtype=np.unit8)\n",
        "m=Image.fromarray(a)\n",
        "m.save('pp.png')"
      ],
      "execution_count": 9,
      "outputs": []
    },
    {
      "cell_type": "code",
      "metadata": {
        "id": "fkLAjVZn_1jP"
      },
      "source": [
        "a"
      ],
      "execution_count": null,
      "outputs": []
    },
    {
      "cell_type": "code",
      "metadata": {
        "id": "n833clV7GxGN"
      },
      "source": [
        "for x in img_arr:\n",
        "    print(x)"
      ],
      "execution_count": null,
      "outputs": []
    }
  ]
}