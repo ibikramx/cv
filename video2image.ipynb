{
  "nbformat": 4,
  "nbformat_minor": 0,
  "metadata": {
    "colab": {
      "name": "video2image.ipynb",
      "provenance": [],
      "collapsed_sections": [],
      "mount_file_id": "17i3DeETpgWUGaV_3g_ht38Vjqg2_iIMk",
      "authorship_tag": "ABX9TyNCB9IYZX0PLDpU2EK4XjEi",
      "include_colab_link": true
    },
    "kernelspec": {
      "display_name": "Python 3",
      "name": "python3"
    }
  },
  "cells": [
    {
      "cell_type": "markdown",
      "metadata": {
        "id": "view-in-github",
        "colab_type": "text"
      },
      "source": [
        "<a href=\"https://colab.research.google.com/github/ibikramx/cv/blob/main/video2image.ipynb\" target=\"_parent\"><img src=\"https://colab.research.google.com/assets/colab-badge.svg\" alt=\"Open In Colab\"/></a>"
      ]
    },
    {
      "cell_type": "code",
      "metadata": {
        "colab": {
          "background_save": true
        },
        "id": "_E91trQt_plf"
      },
      "source": [
        " import cv2\n",
        "vidcap = cv2.VideoCapture('/content/drive/MyDrive/Blake Blossom/6015134bef804.vid')\n",
        "def getFrame(sec):\n",
        "    vidcap.set(cv2.CAP_PROP_POS_MSEC,sec*1000)\n",
        "    hasFrames,image = vidcap.read()\n",
        "    if hasFrames:\n",
        "        cv2.imwrite(\"image\"+str(count)+\".jpg\", image)     # save frame as JPG file\n",
        "    return hasFrames\n",
        "sec = 0\n",
        "frameRate = 0.5 #//it will capture image in each 0.5 second\n",
        "count=1\n",
        "success = getFrame(sec)\n",
        "while success:\n",
        "    count = count + 1\n",
        "    sec = sec + frameRate\n",
        "    sec = round(sec, 2)\n",
        "    success = getFrame(sec)"
      ],
      "execution_count": null,
      "outputs": []
    }
  ]
}