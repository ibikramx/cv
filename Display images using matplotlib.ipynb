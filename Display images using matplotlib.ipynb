{
  "nbformat": 4,
  "nbformat_minor": 0,
  "metadata": {
    "colab": {
      "name": "display_image.ipynb",
      "provenance": [],
      "collapsed_sections": [],
      "authorship_tag": "ABX9TyNQ+7cj3IEytHp/lUMemOr0"
    },
    "kernelspec": {
      "name": "python3",
      "display_name": "Python 3"
    }
  },
  "cells": [
    {
      "cell_type": "markdown",
      "metadata": {
        "id": "YOr_pwAjJLUT"
      },
      "source": [
        "##Display images using matplotlib."
      ]
    },
    {
      "cell_type": "code",
      "metadata": {
        "id": "WBcRDAkUDLhV"
      },
      "source": [
        "import cv2\n",
        "import numpy as np\n",
        "import matplotlib.pyplot as mpl"
      ],
      "execution_count": null,
      "outputs": []
    },
    {
      "cell_type": "code",
      "metadata": {
        "id": "1JJD27PuDusv"
      },
      "source": [
        "imload=cv2.imread(\"/content/a.jpg\")\n",
        "mpl.imshow(imload)\n",
        "mpl.show()"
      ],
      "execution_count": null,
      "outputs": []
    },
    {
      "cell_type": "markdown",
      "metadata": {
        "id": "xeadM2udI1AE"
      },
      "source": [
        "##Display image using ipython packages."
      ]
    },
    {
      "cell_type": "code",
      "metadata": {
        "id": "e3jmd7csILrJ"
      },
      "source": [
        " from IPython.display import Image \n",
        "Image('/content/a.jpg')"
      ],
      "execution_count": null,
      "outputs": []
    },
    {
      "cell_type": "markdown",
      "metadata": {
        "id": "6HdqYlTH994a"
      },
      "source": [
        "##Display image using cv2_imshow()."
      ]
    },
    {
      "cell_type": "code",
      "metadata": {
        "id": "jL4ZnODF8Inu"
      },
      "source": [
        " from google.colab.patches import cv2_imshow # for image display\n",
        " \n",
        "cv2_imshow(imload)"
      ],
      "execution_count": null,
      "outputs": []
    }
  ]
}