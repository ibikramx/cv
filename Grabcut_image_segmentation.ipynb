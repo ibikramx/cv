{
  "nbformat": 4,
  "nbformat_minor": 0,
  "metadata": {
    "colab": {
      "name": "Grabcut image segmentation.ipynb",
      "provenance": [],
      "authorship_tag": "ABX9TyNtr90YywXdMrp6oe84o0NR"
    },
    "kernelspec": {
      "name": "python3",
      "display_name": "Python 3"
    }
  },
  "cells": [
    {
      "cell_type": "code",
      "metadata": {
        "id": "uwWOqtlsdAmA"
      },
      "source": [
        " import cv2\n",
        "import numpy as np\n",
        "from matplotlib import pyplot as plt"
      ],
      "execution_count": null,
      "outputs": []
    },
    {
      "cell_type": "code",
      "metadata": {
        "id": "sjo0neS8D_jS"
      },
      "source": [
        "image_bgr = cv2.imread('fh.jpg')\n",
        "image_rgb = cv2.cvtColor(image_bgr, cv2.COLOR_BGR2RGB)\n",
        "rectangle = (1000, 200, 1800, 2300)# 600, 550, 1150, 2000\n",
        "mask = np.zeros(image_rgb.shape[:2], np.uint8)\n",
        "bgdModel = np.zeros((1, 65), np.float64)\n",
        "fgdModel = np.zeros((1, 65), np.float64)\n",
        "cv2.grabCut(image_rgb, mask, rectangle, bgdModel, fgdModel, 5, cv2.GC_INIT_WITH_RECT)\n",
        "mask_2 = np.where((mask == 2) | (mask == 0), 0, 1).astype('uint8')\n",
        "image_rgd_nobg = image_rgb * mask_2[:, :, np.newaxis]\n",
        "plt.imshow(image_rgd_nobg), plt.axis('off')\n",
        "plt.show()"
      ],
      "execution_count": null,
      "outputs": []
    },
    {
      "cell_type": "code",
      "metadata": {
        "id": "CHeY397uGlvw"
      },
      "source": [
        "from PIL import Image\n",
        "img=Image.open('fh.jpg')\n",
        "IMG=np.array(img)\n",
        "IMG.shape"
      ],
      "execution_count": null,
      "outputs": []
    },
    {
      "cell_type": "code",
      "metadata": {
        "id": "ODs4NqhafCll"
      },
      "source": [
        "L=Image.fromarray(image_rgd_nobg)\n",
        "L.save('save.jpg')"
      ],
      "execution_count": null,
      "outputs": []
    }
  ]
}